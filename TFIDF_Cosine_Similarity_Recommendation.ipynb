{
 "cells": [
  {
   "cell_type": "code",
   "execution_count": 4,
   "id": "f660e62e",
   "metadata": {},
   "outputs": [],
   "source": [
    "import pandas as pd\n",
    "import numpy as np"
   ]
  },
  {
   "cell_type": "code",
   "execution_count": 5,
   "id": "735b74fa",
   "metadata": {},
   "outputs": [],
   "source": [
    "behavior_merged = pd.read_csv('preprocessed-news.csv')"
   ]
  },
  {
   "cell_type": "code",
   "execution_count": 6,
   "id": "68daf830",
   "metadata": {},
   "outputs": [
    {
     "data": {
      "text/html": [
       "<div>\n",
       "<style scoped>\n",
       "    .dataframe tbody tr th:only-of-type {\n",
       "        vertical-align: middle;\n",
       "    }\n",
       "\n",
       "    .dataframe tbody tr th {\n",
       "        vertical-align: top;\n",
       "    }\n",
       "\n",
       "    .dataframe thead th {\n",
       "        text-align: right;\n",
       "    }\n",
       "</style>\n",
       "<table border=\"1\" class=\"dataframe\">\n",
       "  <thead>\n",
       "    <tr style=\"text-align: right;\">\n",
       "      <th></th>\n",
       "      <th>Unnamed: 0.1</th>\n",
       "      <th>Unnamed: 0</th>\n",
       "      <th>user</th>\n",
       "      <th>clicked_news</th>\n",
       "      <th>clicked_value</th>\n",
       "      <th>title</th>\n",
       "      <th>abstract</th>\n",
       "      <th>combined</th>\n",
       "    </tr>\n",
       "  </thead>\n",
       "  <tbody>\n",
       "    <tr>\n",
       "      <th>0</th>\n",
       "      <td>0</td>\n",
       "      <td>0</td>\n",
       "      <td>U13740</td>\n",
       "      <td>N55189</td>\n",
       "      <td>1</td>\n",
       "      <td>'Wheel Of Fortune' Guest Delivers Hilarious, O...</td>\n",
       "      <td>We'd like to solve the puzzle, Pat: Blair Davi...</td>\n",
       "      <td>wheel fortune guest delivers hilarious rail in...</td>\n",
       "    </tr>\n",
       "    <tr>\n",
       "      <th>1</th>\n",
       "      <td>1</td>\n",
       "      <td>1</td>\n",
       "      <td>U10045</td>\n",
       "      <td>N55189</td>\n",
       "      <td>1</td>\n",
       "      <td>'Wheel Of Fortune' Guest Delivers Hilarious, O...</td>\n",
       "      <td>We'd like to solve the puzzle, Pat: Blair Davi...</td>\n",
       "      <td>wheel fortune guest delivers hilarious rail in...</td>\n",
       "    </tr>\n",
       "    <tr>\n",
       "      <th>2</th>\n",
       "      <td>2</td>\n",
       "      <td>2</td>\n",
       "      <td>U85394</td>\n",
       "      <td>N55189</td>\n",
       "      <td>1</td>\n",
       "      <td>'Wheel Of Fortune' Guest Delivers Hilarious, O...</td>\n",
       "      <td>We'd like to solve the puzzle, Pat: Blair Davi...</td>\n",
       "      <td>wheel fortune guest delivers hilarious rail in...</td>\n",
       "    </tr>\n",
       "    <tr>\n",
       "      <th>3</th>\n",
       "      <td>3</td>\n",
       "      <td>3</td>\n",
       "      <td>U78244</td>\n",
       "      <td>N55189</td>\n",
       "      <td>1</td>\n",
       "      <td>'Wheel Of Fortune' Guest Delivers Hilarious, O...</td>\n",
       "      <td>We'd like to solve the puzzle, Pat: Blair Davi...</td>\n",
       "      <td>wheel fortune guest delivers hilarious rail in...</td>\n",
       "    </tr>\n",
       "    <tr>\n",
       "      <th>4</th>\n",
       "      <td>4</td>\n",
       "      <td>4</td>\n",
       "      <td>U27024</td>\n",
       "      <td>N55189</td>\n",
       "      <td>1</td>\n",
       "      <td>'Wheel Of Fortune' Guest Delivers Hilarious, O...</td>\n",
       "      <td>We'd like to solve the puzzle, Pat: Blair Davi...</td>\n",
       "      <td>wheel fortune guest delivers hilarious rail in...</td>\n",
       "    </tr>\n",
       "  </tbody>\n",
       "</table>\n",
       "</div>"
      ],
      "text/plain": [
       "   Unnamed: 0.1  Unnamed: 0    user clicked_news  clicked_value  \\\n",
       "0             0           0  U13740       N55189              1   \n",
       "1             1           1  U10045       N55189              1   \n",
       "2             2           2  U85394       N55189              1   \n",
       "3             3           3  U78244       N55189              1   \n",
       "4             4           4  U27024       N55189              1   \n",
       "\n",
       "                                               title  \\\n",
       "0  'Wheel Of Fortune' Guest Delivers Hilarious, O...   \n",
       "1  'Wheel Of Fortune' Guest Delivers Hilarious, O...   \n",
       "2  'Wheel Of Fortune' Guest Delivers Hilarious, O...   \n",
       "3  'Wheel Of Fortune' Guest Delivers Hilarious, O...   \n",
       "4  'Wheel Of Fortune' Guest Delivers Hilarious, O...   \n",
       "\n",
       "                                            abstract  \\\n",
       "0  We'd like to solve the puzzle, Pat: Blair Davi...   \n",
       "1  We'd like to solve the puzzle, Pat: Blair Davi...   \n",
       "2  We'd like to solve the puzzle, Pat: Blair Davi...   \n",
       "3  We'd like to solve the puzzle, Pat: Blair Davi...   \n",
       "4  We'd like to solve the puzzle, Pat: Blair Davi...   \n",
       "\n",
       "                                            combined  \n",
       "0  wheel fortune guest delivers hilarious rail in...  \n",
       "1  wheel fortune guest delivers hilarious rail in...  \n",
       "2  wheel fortune guest delivers hilarious rail in...  \n",
       "3  wheel fortune guest delivers hilarious rail in...  \n",
       "4  wheel fortune guest delivers hilarious rail in...  "
      ]
     },
     "execution_count": 6,
     "metadata": {},
     "output_type": "execute_result"
    }
   ],
   "source": [
    "behavior_merged.head()"
   ]
  },
  {
   "cell_type": "code",
   "execution_count": 7,
   "id": "5a564b21",
   "metadata": {},
   "outputs": [],
   "source": [
    "import pandas as pd\n",
    "from sklearn.feature_extraction.text import TfidfVectorizer\n",
    "from sklearn.metrics.pairwise import pairwise_distances\n",
    "import heapq"
   ]
  },
  {
   "cell_type": "code",
   "execution_count": 8,
   "id": "71e173b6",
   "metadata": {},
   "outputs": [],
   "source": [
    "vectorizer = TfidfVectorizer(min_df = 0)"
   ]
  },
  {
   "cell_type": "code",
   "execution_count": 116,
   "id": "3b19fbbd",
   "metadata": {},
   "outputs": [],
   "source": [
    "data_unique = behavior_merged.drop_duplicates(subset=['clicked_news'])"
   ]
  },
  {
   "cell_type": "code",
   "execution_count": 159,
   "id": "78d98243",
   "metadata": {},
   "outputs": [
    {
     "data": {
      "text/html": [
       "<div>\n",
       "<style scoped>\n",
       "    .dataframe tbody tr th:only-of-type {\n",
       "        vertical-align: middle;\n",
       "    }\n",
       "\n",
       "    .dataframe tbody tr th {\n",
       "        vertical-align: top;\n",
       "    }\n",
       "\n",
       "    .dataframe thead th {\n",
       "        text-align: right;\n",
       "    }\n",
       "</style>\n",
       "<table border=\"1\" class=\"dataframe\">\n",
       "  <thead>\n",
       "    <tr style=\"text-align: right;\">\n",
       "      <th></th>\n",
       "      <th>Unnamed: 0.1</th>\n",
       "      <th>Unnamed: 0</th>\n",
       "      <th>user</th>\n",
       "      <th>clicked_news</th>\n",
       "      <th>clicked_value</th>\n",
       "      <th>title</th>\n",
       "      <th>abstract</th>\n",
       "      <th>combined</th>\n",
       "    </tr>\n",
       "  </thead>\n",
       "  <tbody>\n",
       "    <tr>\n",
       "      <th>0</th>\n",
       "      <td>0</td>\n",
       "      <td>0</td>\n",
       "      <td>U13740</td>\n",
       "      <td>N55189</td>\n",
       "      <td>1</td>\n",
       "      <td>'Wheel Of Fortune' Guest Delivers Hilarious, O...</td>\n",
       "      <td>We'd like to solve the puzzle, Pat: Blair Davi...</td>\n",
       "      <td>wheel fortune guest delivers hilarious rail in...</td>\n",
       "    </tr>\n",
       "    <tr>\n",
       "      <th>3045</th>\n",
       "      <td>3045</td>\n",
       "      <td>3045</td>\n",
       "      <td>U13740</td>\n",
       "      <td>N42782</td>\n",
       "      <td>1</td>\n",
       "      <td>Three takeaways from Yankees' ALCS Game 5 vict...</td>\n",
       "      <td>The Yankees kept hope alive thanks to some imp...</td>\n",
       "      <td>three takeaway yankee alcs game victory astros...</td>\n",
       "    </tr>\n",
       "    <tr>\n",
       "      <th>3146</th>\n",
       "      <td>3146</td>\n",
       "      <td>3146</td>\n",
       "      <td>U13740</td>\n",
       "      <td>N34694</td>\n",
       "      <td>1</td>\n",
       "      <td>Rosie O'Donnell: Barbara Walters Isn't 'Up to ...</td>\n",
       "      <td>Rosie O'Donnell: Barbara Walters Isn't 'Up to ...</td>\n",
       "      <td>rosie odonnell barbara walter nt up speaking p...</td>\n",
       "    </tr>\n",
       "    <tr>\n",
       "      <th>3828</th>\n",
       "      <td>3828</td>\n",
       "      <td>3828</td>\n",
       "      <td>U13740</td>\n",
       "      <td>N45794</td>\n",
       "      <td>1</td>\n",
       "      <td>Four flight attendants were arrested in Miami'...</td>\n",
       "      <td>Four American Airlines flight attendants were ...</td>\n",
       "      <td>four flight attendant arrested miami s airport...</td>\n",
       "    </tr>\n",
       "    <tr>\n",
       "      <th>7111</th>\n",
       "      <td>7111</td>\n",
       "      <td>7111</td>\n",
       "      <td>U13740</td>\n",
       "      <td>N18445</td>\n",
       "      <td>1</td>\n",
       "      <td>Michigan sends breakup tweet to Notre Dame as ...</td>\n",
       "      <td>Parting is such sweet sorrow, say the Wolverines.</td>\n",
       "      <td>michigan sends breakup tweet notre dame series...</td>\n",
       "    </tr>\n",
       "  </tbody>\n",
       "</table>\n",
       "</div>"
      ],
      "text/plain": [
       "      Unnamed: 0.1  Unnamed: 0    user clicked_news  clicked_value  \\\n",
       "0                0           0  U13740       N55189              1   \n",
       "3045          3045        3045  U13740       N42782              1   \n",
       "3146          3146        3146  U13740       N34694              1   \n",
       "3828          3828        3828  U13740       N45794              1   \n",
       "7111          7111        7111  U13740       N18445              1   \n",
       "\n",
       "                                                  title  \\\n",
       "0     'Wheel Of Fortune' Guest Delivers Hilarious, O...   \n",
       "3045  Three takeaways from Yankees' ALCS Game 5 vict...   \n",
       "3146  Rosie O'Donnell: Barbara Walters Isn't 'Up to ...   \n",
       "3828  Four flight attendants were arrested in Miami'...   \n",
       "7111  Michigan sends breakup tweet to Notre Dame as ...   \n",
       "\n",
       "                                               abstract  \\\n",
       "0     We'd like to solve the puzzle, Pat: Blair Davi...   \n",
       "3045  The Yankees kept hope alive thanks to some imp...   \n",
       "3146  Rosie O'Donnell: Barbara Walters Isn't 'Up to ...   \n",
       "3828  Four American Airlines flight attendants were ...   \n",
       "7111  Parting is such sweet sorrow, say the Wolverines.   \n",
       "\n",
       "                                               combined  \n",
       "0     wheel fortune guest delivers hilarious rail in...  \n",
       "3045  three takeaway yankee alcs game victory astros...  \n",
       "3146  rosie odonnell barbara walter nt up speaking p...  \n",
       "3828  four flight attendant arrested miami s airport...  \n",
       "7111  michigan sends breakup tweet notre dame series...  "
      ]
     },
     "execution_count": 159,
     "metadata": {},
     "output_type": "execute_result"
    }
   ],
   "source": [
    "data_unique.head()"
   ]
  },
  {
   "cell_type": "code",
   "execution_count": 189,
   "id": "493fd52e",
   "metadata": {},
   "outputs": [],
   "source": [
    "user_interactions = data_unique.groupby('user').agg({'clicked_news': 'count', 'clicked_value': 'sum'}).reset_index()"
   ]
  },
  {
   "cell_type": "code",
   "execution_count": 190,
   "id": "649c8e43",
   "metadata": {},
   "outputs": [
    {
     "data": {
      "text/html": [
       "<div>\n",
       "<style scoped>\n",
       "    .dataframe tbody tr th:only-of-type {\n",
       "        vertical-align: middle;\n",
       "    }\n",
       "\n",
       "    .dataframe tbody tr th {\n",
       "        vertical-align: top;\n",
       "    }\n",
       "\n",
       "    .dataframe thead th {\n",
       "        text-align: right;\n",
       "    }\n",
       "</style>\n",
       "<table border=\"1\" class=\"dataframe\">\n",
       "  <thead>\n",
       "    <tr style=\"text-align: right;\">\n",
       "      <th></th>\n",
       "      <th>user</th>\n",
       "      <th>clicked_news</th>\n",
       "      <th>clicked_value</th>\n",
       "    </tr>\n",
       "  </thead>\n",
       "  <tbody>\n",
       "    <tr>\n",
       "      <th>0</th>\n",
       "      <td>U100</td>\n",
       "      <td>1</td>\n",
       "      <td>1</td>\n",
       "    </tr>\n",
       "    <tr>\n",
       "      <th>1</th>\n",
       "      <td>U10001</td>\n",
       "      <td>3</td>\n",
       "      <td>2</td>\n",
       "    </tr>\n",
       "    <tr>\n",
       "      <th>2</th>\n",
       "      <td>U10003</td>\n",
       "      <td>3</td>\n",
       "      <td>3</td>\n",
       "    </tr>\n",
       "    <tr>\n",
       "      <th>3</th>\n",
       "      <td>U10008</td>\n",
       "      <td>5</td>\n",
       "      <td>3</td>\n",
       "    </tr>\n",
       "    <tr>\n",
       "      <th>4</th>\n",
       "      <td>U10011</td>\n",
       "      <td>1</td>\n",
       "      <td>1</td>\n",
       "    </tr>\n",
       "  </tbody>\n",
       "</table>\n",
       "</div>"
      ],
      "text/plain": [
       "     user  clicked_news  clicked_value\n",
       "0    U100             1              1\n",
       "1  U10001             3              2\n",
       "2  U10003             3              3\n",
       "3  U10008             5              3\n",
       "4  U10011             1              1"
      ]
     },
     "execution_count": 190,
     "metadata": {},
     "output_type": "execute_result"
    }
   ],
   "source": [
    "user_interactions.head()"
   ]
  },
  {
   "cell_type": "code",
   "execution_count": 191,
   "id": "ea8b1af3",
   "metadata": {},
   "outputs": [
    {
     "data": {
      "text/html": [
       "<div>\n",
       "<style scoped>\n",
       "    .dataframe tbody tr th:only-of-type {\n",
       "        vertical-align: middle;\n",
       "    }\n",
       "\n",
       "    .dataframe tbody tr th {\n",
       "        vertical-align: top;\n",
       "    }\n",
       "\n",
       "    .dataframe thead th {\n",
       "        text-align: right;\n",
       "    }\n",
       "</style>\n",
       "<table border=\"1\" class=\"dataframe\">\n",
       "  <thead>\n",
       "    <tr style=\"text-align: right;\">\n",
       "      <th></th>\n",
       "      <th>user</th>\n",
       "      <th>clicked_news</th>\n",
       "      <th>clicked_value</th>\n",
       "    </tr>\n",
       "  </thead>\n",
       "  <tbody>\n",
       "    <tr>\n",
       "      <th>561</th>\n",
       "      <td>U13740</td>\n",
       "      <td>11</td>\n",
       "      <td>10</td>\n",
       "    </tr>\n",
       "  </tbody>\n",
       "</table>\n",
       "</div>"
      ],
      "text/plain": [
       "       user  clicked_news  clicked_value\n",
       "561  U13740            11             10"
      ]
     },
     "execution_count": 191,
     "metadata": {},
     "output_type": "execute_result"
    }
   ],
   "source": [
    "user_interactions[user_interactions['user'] == 'U13740']"
   ]
  },
  {
   "cell_type": "code",
   "execution_count": 192,
   "id": "ba6b603a",
   "metadata": {},
   "outputs": [
    {
     "name": "stdout",
     "output_type": "stream",
     "text": [
      "CPU times: total: 1.08 s\n",
      "Wall time: 1.08 s\n"
     ]
    }
   ],
   "source": [
    "%%time\n",
    "tfidf_matrix = vectorizer.fit_transform(data_unique['combined'])"
   ]
  },
  {
   "cell_type": "code",
   "execution_count": 193,
   "id": "bf1303af",
   "metadata": {},
   "outputs": [
    {
     "data": {
      "text/plain": [
       "<48616x54775 sparse matrix of type '<class 'numpy.float64'>'\n",
       "\twith 1154151 stored elements in Compressed Sparse Row format>"
      ]
     },
     "execution_count": 193,
     "metadata": {},
     "output_type": "execute_result"
    }
   ],
   "source": [
    "tfidf_matrix"
   ]
  },
  {
   "cell_type": "code",
   "execution_count": 194,
   "id": "838b3ce9",
   "metadata": {},
   "outputs": [],
   "source": [
    "from sklearn.decomposition import TruncatedSVD\n",
    "svd = TruncatedSVD(n_components=100)  # Adjust the number of components as needed"
   ]
  },
  {
   "cell_type": "code",
   "execution_count": 195,
   "id": "00b0b4e0",
   "metadata": {},
   "outputs": [
    {
     "data": {
      "text/plain": [
       "(48616, 100)"
      ]
     },
     "execution_count": 195,
     "metadata": {},
     "output_type": "execute_result"
    }
   ],
   "source": [
    "tfidf_matrix_reduced = svd.fit_transform(tfidf_matrix)\n",
    "tfidf_matrix_reduced.shape"
   ]
  },
  {
   "cell_type": "code",
   "execution_count": 126,
   "id": "2c56f61b",
   "metadata": {},
   "outputs": [],
   "source": [
    "from scipy.sparse import csr_matrix\n",
    "from scipy.sparse.linalg import norm"
   ]
  },
  {
   "cell_type": "code",
   "execution_count": 127,
   "id": "e0a3e5e8",
   "metadata": {},
   "outputs": [],
   "source": [
    "tfidf_matrix_sparse = csr_matrix(tfidf_matrix_reduced)"
   ]
  },
  {
   "cell_type": "code",
   "execution_count": 129,
   "id": "18dcf34d",
   "metadata": {},
   "outputs": [
    {
     "data": {
      "text/html": [
       "<style>#sk-container-id-2 {color: black;background-color: white;}#sk-container-id-2 pre{padding: 0;}#sk-container-id-2 div.sk-toggleable {background-color: white;}#sk-container-id-2 label.sk-toggleable__label {cursor: pointer;display: block;width: 100%;margin-bottom: 0;padding: 0.3em;box-sizing: border-box;text-align: center;}#sk-container-id-2 label.sk-toggleable__label-arrow:before {content: \"▸\";float: left;margin-right: 0.25em;color: #696969;}#sk-container-id-2 label.sk-toggleable__label-arrow:hover:before {color: black;}#sk-container-id-2 div.sk-estimator:hover label.sk-toggleable__label-arrow:before {color: black;}#sk-container-id-2 div.sk-toggleable__content {max-height: 0;max-width: 0;overflow: hidden;text-align: left;background-color: #f0f8ff;}#sk-container-id-2 div.sk-toggleable__content pre {margin: 0.2em;color: black;border-radius: 0.25em;background-color: #f0f8ff;}#sk-container-id-2 input.sk-toggleable__control:checked~div.sk-toggleable__content {max-height: 200px;max-width: 100%;overflow: auto;}#sk-container-id-2 input.sk-toggleable__control:checked~label.sk-toggleable__label-arrow:before {content: \"▾\";}#sk-container-id-2 div.sk-estimator input.sk-toggleable__control:checked~label.sk-toggleable__label {background-color: #d4ebff;}#sk-container-id-2 div.sk-label input.sk-toggleable__control:checked~label.sk-toggleable__label {background-color: #d4ebff;}#sk-container-id-2 input.sk-hidden--visually {border: 0;clip: rect(1px 1px 1px 1px);clip: rect(1px, 1px, 1px, 1px);height: 1px;margin: -1px;overflow: hidden;padding: 0;position: absolute;width: 1px;}#sk-container-id-2 div.sk-estimator {font-family: monospace;background-color: #f0f8ff;border: 1px dotted black;border-radius: 0.25em;box-sizing: border-box;margin-bottom: 0.5em;}#sk-container-id-2 div.sk-estimator:hover {background-color: #d4ebff;}#sk-container-id-2 div.sk-parallel-item::after {content: \"\";width: 100%;border-bottom: 1px solid gray;flex-grow: 1;}#sk-container-id-2 div.sk-label:hover label.sk-toggleable__label {background-color: #d4ebff;}#sk-container-id-2 div.sk-serial::before {content: \"\";position: absolute;border-left: 1px solid gray;box-sizing: border-box;top: 0;bottom: 0;left: 50%;z-index: 0;}#sk-container-id-2 div.sk-serial {display: flex;flex-direction: column;align-items: center;background-color: white;padding-right: 0.2em;padding-left: 0.2em;position: relative;}#sk-container-id-2 div.sk-item {position: relative;z-index: 1;}#sk-container-id-2 div.sk-parallel {display: flex;align-items: stretch;justify-content: center;background-color: white;position: relative;}#sk-container-id-2 div.sk-item::before, #sk-container-id-2 div.sk-parallel-item::before {content: \"\";position: absolute;border-left: 1px solid gray;box-sizing: border-box;top: 0;bottom: 0;left: 50%;z-index: -1;}#sk-container-id-2 div.sk-parallel-item {display: flex;flex-direction: column;z-index: 1;position: relative;background-color: white;}#sk-container-id-2 div.sk-parallel-item:first-child::after {align-self: flex-end;width: 50%;}#sk-container-id-2 div.sk-parallel-item:last-child::after {align-self: flex-start;width: 50%;}#sk-container-id-2 div.sk-parallel-item:only-child::after {width: 0;}#sk-container-id-2 div.sk-dashed-wrapped {border: 1px dashed gray;margin: 0 0.4em 0.5em 0.4em;box-sizing: border-box;padding-bottom: 0.4em;background-color: white;}#sk-container-id-2 div.sk-label label {font-family: monospace;font-weight: bold;display: inline-block;line-height: 1.2em;}#sk-container-id-2 div.sk-label-container {text-align: center;}#sk-container-id-2 div.sk-container {/* jupyter's `normalize.less` sets `[hidden] { display: none; }` but bootstrap.min.css set `[hidden] { display: none !important; }` so we also need the `!important` here to be able to override the default hidden behavior on the sphinx rendered scikit-learn.org. See: https://github.com/scikit-learn/scikit-learn/issues/21755 */display: inline-block !important;position: relative;}#sk-container-id-2 div.sk-text-repr-fallback {display: none;}</style><div id=\"sk-container-id-2\" class=\"sk-top-container\"><div class=\"sk-text-repr-fallback\"><pre>NearestNeighbors(algorithm=&#x27;brute&#x27;, metric=&#x27;cosine&#x27;, n_neighbors=10)</pre><b>In a Jupyter environment, please rerun this cell to show the HTML representation or trust the notebook. <br />On GitHub, the HTML representation is unable to render, please try loading this page with nbviewer.org.</b></div><div class=\"sk-container\" hidden><div class=\"sk-item\"><div class=\"sk-estimator sk-toggleable\"><input class=\"sk-toggleable__control sk-hidden--visually\" id=\"sk-estimator-id-2\" type=\"checkbox\" checked><label for=\"sk-estimator-id-2\" class=\"sk-toggleable__label sk-toggleable__label-arrow\">NearestNeighbors</label><div class=\"sk-toggleable__content\"><pre>NearestNeighbors(algorithm=&#x27;brute&#x27;, metric=&#x27;cosine&#x27;, n_neighbors=10)</pre></div></div></div></div></div>"
      ],
      "text/plain": [
       "NearestNeighbors(algorithm='brute', metric='cosine', n_neighbors=10)"
      ]
     },
     "execution_count": 129,
     "metadata": {},
     "output_type": "execute_result"
    }
   ],
   "source": [
    "num_neighbors = 10\n",
    "nbrs = NearestNeighbors(n_neighbors=num_neighbors, algorithm='brute', metric='cosine')\n",
    "nbrs.fit(tfidf_matrix_reduced)"
   ]
  },
  {
   "cell_type": "code",
   "execution_count": null,
   "id": "bd48f3bd",
   "metadata": {},
   "outputs": [],
   "source": [
    "!pip install scikit-learn"
   ]
  },
  {
   "cell_type": "code",
   "execution_count": 29,
   "id": "8723d3ce",
   "metadata": {},
   "outputs": [
    {
     "data": {
      "text/plain": [
       "(5706634, 10)"
      ]
     },
     "execution_count": 29,
     "metadata": {},
     "output_type": "execute_result"
    }
   ],
   "source": [
    "tfidf_matrix_sparse.shape"
   ]
  },
  {
   "cell_type": "code",
   "execution_count": 30,
   "id": "9d9a0f97",
   "metadata": {},
   "outputs": [],
   "source": [
    "tfidf_matrix_dense = tfidf_matrix_sparse.toarray()"
   ]
  },
  {
   "cell_type": "code",
   "execution_count": 31,
   "id": "dcd4a46b",
   "metadata": {},
   "outputs": [
    {
     "data": {
      "text/plain": [
       "array([[ 0.0898752 , -0.00577011, -0.00075039, ..., -0.02234794,\n",
       "        -0.01875708, -0.01683801],\n",
       "       [ 0.0898752 , -0.00577011, -0.00075039, ..., -0.02234794,\n",
       "        -0.01875708, -0.01683801],\n",
       "       [ 0.0898752 , -0.00577011, -0.00075039, ..., -0.02234794,\n",
       "        -0.01875708, -0.01683801],\n",
       "       ...,\n",
       "       [ 0.07062028,  0.0018471 ,  0.00348129, ..., -0.00729444,\n",
       "         0.01468261, -0.01116064],\n",
       "       [ 0.06828962,  0.00075246,  0.00092491, ..., -0.01097424,\n",
       "        -0.00782517, -0.02083914],\n",
       "       [ 0.03348772,  0.01623461, -0.00289927, ..., -0.02046035,\n",
       "        -0.00671981,  0.00873379]])"
      ]
     },
     "execution_count": 31,
     "metadata": {},
     "output_type": "execute_result"
    }
   ],
   "source": [
    "tfidf_matrix_dense"
   ]
  },
  {
   "cell_type": "code",
   "execution_count": 199,
   "id": "564e8fe7",
   "metadata": {},
   "outputs": [],
   "source": [
    "from sklearn.metrics.pairwise import cosine_similarity"
   ]
  },
  {
   "cell_type": "code",
   "execution_count": 216,
   "id": "6e9d8f18",
   "metadata": {},
   "outputs": [],
   "source": [
    "def recommend_diverse_articles(user_id, num_recommendations=10):\n",
    "    # Filter user interactions\n",
    "    user_interactions_filtered = user_interactions[user_interactions['user'] == user_id]\n",
    "    user_article_ids = user_interactions_filtered['clicked_news'].tolist()\n",
    "    \n",
    "    # Calculate user profile based on the articles the user has interacted with\n",
    "    user_profile = tfidf_matrix[user_article_ids].mean(axis=0)\n",
    "    \n",
    "    user_profile = user_profile.A.squeeze()\n",
    "\n",
    "    \n",
    "    # Calculate cosine similarity between user profile and all articles\n",
    "    similarity_scores = cosine_similarity(user_profile.reshape(1, -1), tfidf_matrix)\n",
    "    \n",
    "    # Find indices of top N articles with highest similarity scores\n",
    "    recommended_indices = similarity_scores.argsort()[0][::-1][:num_recommendations]\n",
    "    \n",
    "    # Return recommended articles\n",
    "    recommended_articles = data_unique.iloc[recommended_indices]\n",
    "    \n",
    "    return recommended_articles\n"
   ]
  },
  {
   "cell_type": "code",
   "execution_count": 213,
   "id": "7b8e8fb0",
   "metadata": {},
   "outputs": [],
   "source": [
    "def recommend_diverse_articles(user_id, num_recommendations=5):\n",
    "    # Filter user interactions\n",
    "    user_interactions_filtered = data_unique[data_unique['user'] == user_id]\n",
    "    user_article_ids = user_interactions_filtered['clicked_news'].tolist()\n",
    "    \n",
    "    \n",
    "    # Calculate user profile based on the articles the user has interacted with\n",
    "    user_profile = vectorizer.transform(user_interactions['combined']).mean(axis=0)\n",
    "    \n",
    "    # Reduce dimensionality of user profile\n",
    "    user_profile_svd = svd.transform(user_profile)\n",
    "    \n",
    "    # Find nearest neighbors to user profile\n",
    "    distances, indices = nbrs.kneighbors(user_profile_svd)\n",
    "    \n",
    "    # Get recommended article indices\n",
    "    recommended_indices = indices.flatten()\n",
    "    \n",
    "    # Return recommended articles\n",
    "    recommended_articles = data_unique.iloc[recommended_indices]\n",
    "    \n",
    "    return recommended_articles"
   ]
  },
  {
   "cell_type": "code",
   "execution_count": 217,
   "id": "fe722983",
   "metadata": {},
   "outputs": [],
   "source": [
    "user_id = 'U13740'"
   ]
  },
  {
   "cell_type": "code",
   "execution_count": null,
   "id": "b121aab7",
   "metadata": {},
   "outputs": [],
   "source": []
  },
  {
   "cell_type": "code",
   "execution_count": 221,
   "id": "6a86463f",
   "metadata": {},
   "outputs": [],
   "source": [
    "recommended_articles= recommend_diverse_articles(user_id)"
   ]
  },
  {
   "cell_type": "code",
   "execution_count": 223,
   "id": "40bcf7db",
   "metadata": {},
   "outputs": [
    {
     "name": "stdout",
     "output_type": "stream",
     "text": [
      "40341      'Habitual stowaway' arrested again at O'Hare, ...\n",
      "5222135    'Serial Stowaway' Marilyn Hartman Held Without...\n",
      "1104203    \"Serial stowaway\" arrested at Chicago airport ...\n",
      "5586705    Serial stowaway held without bond for violatin...\n",
      "5694315    The Latest: Snow causes 888 flight cancelation...\n",
      "5576509    The Latest: Snow causes 888 flight cancelation...\n",
      "3940901    Plane slides off runway at Chicago's O'Hare am...\n",
      "5052888    The Latest: About 1,200 flights cancelled at O...\n",
      "3936149    Dramatic Footage Shows Plane Skidding Off Runw...\n",
      "5448816    Chicago Weather: Over 900 Flights Canceled At ...\n",
      "Name: title, dtype: object\n"
     ]
    }
   ],
   "source": [
    "print(recommended_articles['title'])\n"
   ]
  },
  {
   "cell_type": "code",
   "execution_count": 219,
   "id": "b63693e9",
   "metadata": {},
   "outputs": [
    {
     "data": {
      "text/html": [
       "<div>\n",
       "<style scoped>\n",
       "    .dataframe tbody tr th:only-of-type {\n",
       "        vertical-align: middle;\n",
       "    }\n",
       "\n",
       "    .dataframe tbody tr th {\n",
       "        vertical-align: top;\n",
       "    }\n",
       "\n",
       "    .dataframe thead th {\n",
       "        text-align: right;\n",
       "    }\n",
       "</style>\n",
       "<table border=\"1\" class=\"dataframe\">\n",
       "  <thead>\n",
       "    <tr style=\"text-align: right;\">\n",
       "      <th></th>\n",
       "      <th>Unnamed: 0.1</th>\n",
       "      <th>Unnamed: 0</th>\n",
       "      <th>user</th>\n",
       "      <th>clicked_news</th>\n",
       "      <th>clicked_value</th>\n",
       "      <th>title</th>\n",
       "      <th>abstract</th>\n",
       "      <th>combined</th>\n",
       "    </tr>\n",
       "  </thead>\n",
       "  <tbody>\n",
       "    <tr>\n",
       "      <th>0</th>\n",
       "      <td>0</td>\n",
       "      <td>0</td>\n",
       "      <td>U13740</td>\n",
       "      <td>N55189</td>\n",
       "      <td>1</td>\n",
       "      <td>'Wheel Of Fortune' Guest Delivers Hilarious, O...</td>\n",
       "      <td>We'd like to solve the puzzle, Pat: Blair Davi...</td>\n",
       "      <td>wheel fortune guest delivers hilarious rail in...</td>\n",
       "    </tr>\n",
       "    <tr>\n",
       "      <th>3045</th>\n",
       "      <td>3045</td>\n",
       "      <td>3045</td>\n",
       "      <td>U13740</td>\n",
       "      <td>N42782</td>\n",
       "      <td>1</td>\n",
       "      <td>Three takeaways from Yankees' ALCS Game 5 vict...</td>\n",
       "      <td>The Yankees kept hope alive thanks to some imp...</td>\n",
       "      <td>three takeaway yankee alcs game victory astros...</td>\n",
       "    </tr>\n",
       "    <tr>\n",
       "      <th>3146</th>\n",
       "      <td>3146</td>\n",
       "      <td>3146</td>\n",
       "      <td>U13740</td>\n",
       "      <td>N34694</td>\n",
       "      <td>1</td>\n",
       "      <td>Rosie O'Donnell: Barbara Walters Isn't 'Up to ...</td>\n",
       "      <td>Rosie O'Donnell: Barbara Walters Isn't 'Up to ...</td>\n",
       "      <td>rosie odonnell barbara walter nt up speaking p...</td>\n",
       "    </tr>\n",
       "    <tr>\n",
       "      <th>3828</th>\n",
       "      <td>3828</td>\n",
       "      <td>3828</td>\n",
       "      <td>U13740</td>\n",
       "      <td>N45794</td>\n",
       "      <td>1</td>\n",
       "      <td>Four flight attendants were arrested in Miami'...</td>\n",
       "      <td>Four American Airlines flight attendants were ...</td>\n",
       "      <td>four flight attendant arrested miami s airport...</td>\n",
       "    </tr>\n",
       "    <tr>\n",
       "      <th>7111</th>\n",
       "      <td>7111</td>\n",
       "      <td>7111</td>\n",
       "      <td>U13740</td>\n",
       "      <td>N18445</td>\n",
       "      <td>1</td>\n",
       "      <td>Michigan sends breakup tweet to Notre Dame as ...</td>\n",
       "      <td>Parting is such sweet sorrow, say the Wolverines.</td>\n",
       "      <td>michigan sends breakup tweet notre dame series...</td>\n",
       "    </tr>\n",
       "    <tr>\n",
       "      <th>7375</th>\n",
       "      <td>7375</td>\n",
       "      <td>7375</td>\n",
       "      <td>U13740</td>\n",
       "      <td>N63302</td>\n",
       "      <td>1</td>\n",
       "      <td>This Wedding Photo of a Canine Best Man Captur...</td>\n",
       "      <td>When Mark Doublet made his dog, Marley, the be...</td>\n",
       "      <td>wedding photo canine best man capture deep dog...</td>\n",
       "    </tr>\n",
       "    <tr>\n",
       "      <th>7881</th>\n",
       "      <td>7881</td>\n",
       "      <td>7881</td>\n",
       "      <td>U13740</td>\n",
       "      <td>N10414</td>\n",
       "      <td>1</td>\n",
       "      <td>Robert Evans, 'Chinatown' Producer and Paramou...</td>\n",
       "      <td>Robert Evans, the Paramount executive who prod...</td>\n",
       "      <td>robert evans chinatown producer paramount chie...</td>\n",
       "    </tr>\n",
       "    <tr>\n",
       "      <th>8390</th>\n",
       "      <td>8390</td>\n",
       "      <td>8390</td>\n",
       "      <td>U13740</td>\n",
       "      <td>N19347</td>\n",
       "      <td>1</td>\n",
       "      <td>Former US Senator Kay Hagan dead at 66</td>\n",
       "      <td>Former U.S. Sen. Kay Hagan, a one-time Capitol...</td>\n",
       "      <td>former u senator kay hagan dead former us sen ...</td>\n",
       "    </tr>\n",
       "    <tr>\n",
       "      <th>9186</th>\n",
       "      <td>9186</td>\n",
       "      <td>9186</td>\n",
       "      <td>U13740</td>\n",
       "      <td>N31801</td>\n",
       "      <td>1</td>\n",
       "      <td>Joe Biden reportedly denied Communion at a Sou...</td>\n",
       "      <td>Joe Biden has a complicated history with the C...</td>\n",
       "      <td>joe biden reportedly denied communion south ca...</td>\n",
       "    </tr>\n",
       "    <tr>\n",
       "      <th>12393</th>\n",
       "      <td>12393</td>\n",
       "      <td>12393</td>\n",
       "      <td>U13740</td>\n",
       "      <td>N55689</td>\n",
       "      <td>1</td>\n",
       "      <td>Charles Rogers, former Michigan State football...</td>\n",
       "      <td>Charles Rogers, the former Michigan State foot...</td>\n",
       "      <td>charles rogers former michigan state football ...</td>\n",
       "    </tr>\n",
       "    <tr>\n",
       "      <th>27367</th>\n",
       "      <td>27367</td>\n",
       "      <td>27367</td>\n",
       "      <td>U13740</td>\n",
       "      <td>N35729</td>\n",
       "      <td>0</td>\n",
       "      <td>Porsche launches into second story of New Jers...</td>\n",
       "      <td>The Porsche went airborne off a median in Toms...</td>\n",
       "      <td>porsche launch second story new jersey buildin...</td>\n",
       "    </tr>\n",
       "  </tbody>\n",
       "</table>\n",
       "</div>"
      ],
      "text/plain": [
       "       Unnamed: 0.1  Unnamed: 0    user clicked_news  clicked_value  \\\n",
       "0                 0           0  U13740       N55189              1   \n",
       "3045           3045        3045  U13740       N42782              1   \n",
       "3146           3146        3146  U13740       N34694              1   \n",
       "3828           3828        3828  U13740       N45794              1   \n",
       "7111           7111        7111  U13740       N18445              1   \n",
       "7375           7375        7375  U13740       N63302              1   \n",
       "7881           7881        7881  U13740       N10414              1   \n",
       "8390           8390        8390  U13740       N19347              1   \n",
       "9186           9186        9186  U13740       N31801              1   \n",
       "12393         12393       12393  U13740       N55689              1   \n",
       "27367         27367       27367  U13740       N35729              0   \n",
       "\n",
       "                                                   title  \\\n",
       "0      'Wheel Of Fortune' Guest Delivers Hilarious, O...   \n",
       "3045   Three takeaways from Yankees' ALCS Game 5 vict...   \n",
       "3146   Rosie O'Donnell: Barbara Walters Isn't 'Up to ...   \n",
       "3828   Four flight attendants were arrested in Miami'...   \n",
       "7111   Michigan sends breakup tweet to Notre Dame as ...   \n",
       "7375   This Wedding Photo of a Canine Best Man Captur...   \n",
       "7881   Robert Evans, 'Chinatown' Producer and Paramou...   \n",
       "8390              Former US Senator Kay Hagan dead at 66   \n",
       "9186   Joe Biden reportedly denied Communion at a Sou...   \n",
       "12393  Charles Rogers, former Michigan State football...   \n",
       "27367  Porsche launches into second story of New Jers...   \n",
       "\n",
       "                                                abstract  \\\n",
       "0      We'd like to solve the puzzle, Pat: Blair Davi...   \n",
       "3045   The Yankees kept hope alive thanks to some imp...   \n",
       "3146   Rosie O'Donnell: Barbara Walters Isn't 'Up to ...   \n",
       "3828   Four American Airlines flight attendants were ...   \n",
       "7111   Parting is such sweet sorrow, say the Wolverines.   \n",
       "7375   When Mark Doublet made his dog, Marley, the be...   \n",
       "7881   Robert Evans, the Paramount executive who prod...   \n",
       "8390   Former U.S. Sen. Kay Hagan, a one-time Capitol...   \n",
       "9186   Joe Biden has a complicated history with the C...   \n",
       "12393  Charles Rogers, the former Michigan State foot...   \n",
       "27367  The Porsche went airborne off a median in Toms...   \n",
       "\n",
       "                                                combined  \n",
       "0      wheel fortune guest delivers hilarious rail in...  \n",
       "3045   three takeaway yankee alcs game victory astros...  \n",
       "3146   rosie odonnell barbara walter nt up speaking p...  \n",
       "3828   four flight attendant arrested miami s airport...  \n",
       "7111   michigan sends breakup tweet notre dame series...  \n",
       "7375   wedding photo canine best man capture deep dog...  \n",
       "7881   robert evans chinatown producer paramount chie...  \n",
       "8390   former u senator kay hagan dead former us sen ...  \n",
       "9186   joe biden reportedly denied communion south ca...  \n",
       "12393  charles rogers former michigan state football ...  \n",
       "27367  porsche launch second story new jersey buildin...  "
      ]
     },
     "execution_count": 219,
     "metadata": {},
     "output_type": "execute_result"
    }
   ],
   "source": [
    "data_unique[data_unique['user'] == 'U13740']"
   ]
  },
  {
   "cell_type": "code",
   "execution_count": null,
   "id": "e27ea1c4",
   "metadata": {},
   "outputs": [],
   "source": []
  }
 ],
 "metadata": {
  "kernelspec": {
   "display_name": "Python 3 (ipykernel)",
   "language": "python",
   "name": "python3"
  },
  "language_info": {
   "codemirror_mode": {
    "name": "ipython",
    "version": 3
   },
   "file_extension": ".py",
   "mimetype": "text/x-python",
   "name": "python",
   "nbconvert_exporter": "python",
   "pygments_lexer": "ipython3",
   "version": "3.10.9"
  }
 },
 "nbformat": 4,
 "nbformat_minor": 5
}
