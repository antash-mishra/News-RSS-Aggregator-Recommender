{
 "cells": [
  {
   "cell_type": "code",
   "execution_count": 1,
   "metadata": {
    "_cell_guid": "b1076dfc-b9ad-4769-8c92-a6c4dae69d19",
    "_uuid": "8f2839f25d086af736a60e9eeb907d3b93b6e0e5",
    "execution": {
     "iopub.execute_input": "2024-02-01T16:02:11.093905Z",
     "iopub.status.busy": "2024-02-01T16:02:11.093532Z",
     "iopub.status.idle": "2024-02-01T16:02:12.527214Z",
     "shell.execute_reply": "2024-02-01T16:02:12.525984Z",
     "shell.execute_reply.started": "2024-02-01T16:02:11.093876Z"
    }
   },
   "outputs": [],
   "source": [
    "# This Python 3 environment comes with many helpful analytics libraries installed\n",
    "# It is defined by the kaggle/python Docker image: https://github.com/kaggle/docker-python\n",
    "# For example, here's several helpful packages to load\n",
    "\n",
    "import numpy as np # linear algebra\n",
    "import pandas as pd # data processing, CSV file I/O (e.g. pd.read_csv)\n",
    "\n",
    "# Input data files are available in the read-only \"../input/\" directory\n",
    "# For example, running this (by clicking run or pressing Shift+Enter) will list all files under the input directory\n",
    "\n",
    "import os\n",
    "for dirname, _, filenames in os.walk('/kaggle/input'):\n",
    "    for filename in filenames:\n",
    "        print(os.path.join(dirname, filename))\n",
    "\n",
    "# You can write up to 20GB to the current directory (/kaggle/working/) that gets preserved as output when you create a version using \"Save & Run All\" \n",
    "# You can also write temporary files to /kaggle/temp/, but they won't be saved outside of the current session"
   ]
  },
  {
   "cell_type": "code",
   "execution_count": 9,
   "metadata": {
    "execution": {
     "iopub.execute_input": "2024-02-01T16:02:52.805984Z",
     "iopub.status.busy": "2024-02-01T16:02:52.805570Z",
     "iopub.status.idle": "2024-02-01T16:03:08.892117Z",
     "shell.execute_reply": "2024-02-01T16:03:08.890545Z",
     "shell.execute_reply.started": "2024-02-01T16:02:52.805949Z"
    }
   },
   "outputs": [
    {
     "name": "stdout",
     "output_type": "stream",
     "text": [
      "Requirement already satisfied: requests in c:\\users\\antash\\anaconda3\\lib\\site-packages (2.28.1)\n",
      "Requirement already satisfied: urllib3<1.27,>=1.21.1 in c:\\users\\antash\\anaconda3\\lib\\site-packages (from requests) (1.26.14)\n",
      "Requirement already satisfied: idna<4,>=2.5 in c:\\users\\antash\\anaconda3\\lib\\site-packages (from requests) (3.4)\n",
      "Requirement already satisfied: certifi>=2017.4.17 in c:\\users\\antash\\anaconda3\\lib\\site-packages (from requests) (2023.11.17)\n",
      "Requirement already satisfied: charset-normalizer<3,>=2 in c:\\users\\antash\\anaconda3\\lib\\site-packages (from requests) (2.0.4)\n"
     ]
    }
   ],
   "source": [
    "!pip install requests"
   ]
  },
  {
   "cell_type": "code",
   "execution_count": 8,
   "metadata": {
    "execution": {
     "iopub.execute_input": "2024-02-01T19:57:19.905069Z",
     "iopub.status.busy": "2024-02-01T19:57:19.904683Z",
     "iopub.status.idle": "2024-02-01T19:57:19.910680Z",
     "shell.execute_reply": "2024-02-01T19:57:19.909543Z",
     "shell.execute_reply.started": "2024-02-01T19:57:19.905038Z"
    }
   },
   "outputs": [],
   "source": [
    "from http.server import BaseHTTPRequestHandler, HTTPServer\n",
    "import requests\n",
    "import xml.etree.ElementTree as ET"
   ]
  },
  {
   "cell_type": "code",
   "execution_count": 7,
   "metadata": {
    "execution": {
     "iopub.execute_input": "2024-02-01T19:57:22.004723Z",
     "iopub.status.busy": "2024-02-01T19:57:22.004343Z",
     "iopub.status.idle": "2024-02-01T19:57:22.009887Z",
     "shell.execute_reply": "2024-02-01T19:57:22.008833Z",
     "shell.execute_reply.started": "2024-02-01T19:57:22.004694Z"
    }
   },
   "outputs": [],
   "source": [
    "import xml.dom.minidom "
   ]
  },
  {
   "cell_type": "code",
   "execution_count": 6,
   "metadata": {
    "execution": {
     "iopub.execute_input": "2024-02-01T19:57:22.918044Z",
     "iopub.status.busy": "2024-02-01T19:57:22.917635Z",
     "iopub.status.idle": "2024-02-01T19:57:22.922349Z",
     "shell.execute_reply": "2024-02-01T19:57:22.921488Z",
     "shell.execute_reply.started": "2024-02-01T19:57:22.918011Z"
    }
   },
   "outputs": [],
   "source": [
    "import sqlite3"
   ]
  },
  {
   "cell_type": "code",
   "execution_count": 5,
   "metadata": {
    "execution": {
     "iopub.execute_input": "2024-02-01T19:57:24.372813Z",
     "iopub.status.busy": "2024-02-01T19:57:24.372435Z",
     "iopub.status.idle": "2024-02-01T19:57:24.377266Z",
     "shell.execute_reply": "2024-02-01T19:57:24.376071Z",
     "shell.execute_reply.started": "2024-02-01T19:57:24.372781Z"
    }
   },
   "outputs": [],
   "source": [
    "from bs4 import BeautifulSoup"
   ]
  },
  {
   "cell_type": "code",
   "execution_count": 4,
   "metadata": {
    "execution": {
     "iopub.execute_input": "2024-02-01T19:57:25.717234Z",
     "iopub.status.busy": "2024-02-01T19:57:25.716854Z",
     "iopub.status.idle": "2024-02-01T19:57:25.722801Z",
     "shell.execute_reply": "2024-02-01T19:57:25.721649Z",
     "shell.execute_reply.started": "2024-02-01T19:57:25.717206Z"
    }
   },
   "outputs": [],
   "source": [
    "def fetch_rss_feed(feed_url):\n",
    "    response = requests.get(feed_url)\n",
    "    if response.status_code == 200:\n",
    "        return response.content\n",
    "    else:\n",
    "        print(f\"Failed to fetch RSS feed.\")\n",
    "        return None"
   ]
  },
  {
   "cell_type": "code",
   "execution_count": 33,
   "metadata": {
    "execution": {
     "iopub.execute_input": "2024-02-01T20:43:11.911595Z",
     "iopub.status.busy": "2024-02-01T20:43:11.910899Z",
     "iopub.status.idle": "2024-02-01T20:43:11.920589Z",
     "shell.execute_reply": "2024-02-01T20:43:11.919384Z",
     "shell.execute_reply.started": "2024-02-01T20:43:11.911561Z"
    }
   },
   "outputs": [],
   "source": [
    "def parse_and_insert(data, feed_type): \n",
    "    soup = BeautifulSoup(data, 'xml')\n",
    "\n",
    "    feed_datas = []\n",
    "\n",
    "    for item in soup.find_all('item'):\n",
    "        #print(item.find('description').text)\n",
    "        title = item.find('title').text.strip() if item.find('title') is not None else ''\n",
    "\n",
    "        description_element = item.find('description')\n",
    "        description = description_element.text if description_element is not None else ''\n",
    "\n",
    "        link = item.find('link').text.strip() if item.find('link') is not None else ''\n",
    "        pubDate = item.find('pubDate').text.strip() if item.find('pubDate') is not None else ''\n",
    "        imgLink = item.find('enclosure')['url']\n",
    "    \n",
    "#         print(f\"Title: {title}\")\n",
    "#         print(f\"Description: {description}\")\n",
    "#         print(f\"Link: {link}\")\n",
    "#         print(f\"pubDate: {pubDate}\")\n",
    "#         print(f\"Image: {imgLink}\")\n",
    "#         print(\"\\n\")        \n",
    "        \n",
    "        \n",
    "        entry_dict = {\n",
    "            'title': title,\n",
    "            'description': description,\n",
    "            'link': link,\n",
    "            'pubDate': pubDate,\n",
    "            'imgLink': imgLink,\n",
    "            'feedType': feed_type\n",
    "        }\n",
    "\n",
    "        \n",
    "        \n",
    "        feed_datas.append(entry_dict)\n",
    "    return feed_datas\n",
    "\n",
    "\n",
    "        #desc = item.find('description').text.strip()\n",
    "        #print(desc)\n"
   ]
  },
  {
   "cell_type": "code",
   "execution_count": 50,
   "metadata": {
    "execution": {
     "iopub.execute_input": "2024-02-01T20:45:52.954435Z",
     "iopub.status.busy": "2024-02-01T20:45:52.954015Z",
     "iopub.status.idle": "2024-02-01T20:45:52.960295Z",
     "shell.execute_reply": "2024-02-01T20:45:52.959207Z",
     "shell.execute_reply.started": "2024-02-01T20:45:52.954405Z"
    }
   },
   "outputs": [],
   "source": [
    "def create_database():\n",
    "    conn = sqlite3.connect('rss_data.db')\n",
    "    cursor = conn.cursor()\n",
    "    \n",
    "    cursor.execute('''\n",
    "        CREATE TABLE IF NOT EXISTS toi_recent_popular_news (\n",
    "            id INTEGER PRIMARY KEY AUTOINCREMENT,\n",
    "            title TEXT,\n",
    "            description TEXT,\n",
    "            link TEXT,\n",
    "            pubDate TEXT,\n",
    "            imgLink TEXT,\n",
    "            feedType TEXT\n",
    "        )\n",
    "    ''')\n",
    "    conn.commit()\n",
    "    conn.close()"
   ]
  },
  {
   "cell_type": "code",
   "execution_count": 64,
   "metadata": {
    "execution": {
     "iopub.execute_input": "2024-02-01T20:46:52.699060Z",
     "iopub.status.busy": "2024-02-01T20:46:52.698626Z",
     "iopub.status.idle": "2024-02-01T20:46:52.705920Z",
     "shell.execute_reply": "2024-02-01T20:46:52.704679Z",
     "shell.execute_reply.started": "2024-02-01T20:46:52.699024Z"
    }
   },
   "outputs": [],
   "source": [
    "def interact_database_table(entries):\n",
    "    conn = sqlite3.connect('rss_data.db')\n",
    "    \n",
    "    cursor = conn.cursor()\n",
    "    print(cursor)\n",
    "    for entry in entries:\n",
    "        print(entry)\n",
    "        cursor.execute('''\n",
    "            INSERT INTO toi_recent_popular_news (title, description, link, pubDate,imgLink, feedType)\n",
    "            VALUES (?, ?, ?, ?, ?, ?)\n",
    "        ''', (\n",
    "            entry.get('title', ''),\n",
    "            entry.get('description', ''),\n",
    "            entry.get('link', ''),\n",
    "            entry.get('pubDate', ''),\n",
    "            entry.get('imgLink', ''),\n",
    "            entry.get('feedType', '')\n",
    "             ))\n",
    "        \n",
    "    conn.commit()\n",
    "    conn.close()\n",
    "    "
   ]
  },
  {
   "cell_type": "code",
   "execution_count": 62,
   "metadata": {},
   "outputs": [],
   "source": [
    "def rss_data_in_table(url, rss_type):\n",
    "    xml_data = fetch_rss_feed(url)\n",
    "    rss_entries = parse_and_insert(xml_data, rss_type)\n",
    "    #print(rss_entries)\n",
    "    interact_database_table(entries=rss_entries)\n"
   ]
  },
  {
   "cell_type": "code",
   "execution_count": 67,
   "metadata": {
    "execution": {
     "iopub.execute_input": "2024-02-01T20:46:54.848897Z",
     "iopub.status.busy": "2024-02-01T20:46:54.848513Z",
     "iopub.status.idle": "2024-02-01T20:46:54.981006Z",
     "shell.execute_reply": "2024-02-01T20:46:54.979721Z",
     "shell.execute_reply.started": "2024-02-01T20:46:54.848866Z"
    }
   },
   "outputs": [
    {
     "name": "stdout",
     "output_type": "stream",
     "text": [
      "<sqlite3.Cursor object at 0x0000018E586DDB40>\n",
      "{'title': 'U19 WC Final Live: Dixon, Weibgen steady after Australia lose Konstas early', 'description': '<img border=\"0\" hspace=\"10\" align=\"left\" style=\"margin-top:3px;margin-right:5px;\" src=\"https://timesofindia.indiatimes.com/photo/107596568.cms\" />', 'link': 'https://timesofindia.indiatimes.com/sports/cricket/india-vs-australia-ind-vs-aus-live-score-under-19-world-cup-final-2024-from-benoni/liveblog/107596568.cms', 'pubDate': '2024-02-11T11:30:16+05:30', 'imgLink': 'https://static.toiimg.com/photo/msid-107596568,imgsize-61186.cms', 'feedType': 'Sports'}\n",
      "{'title': \"'Boomball': Ashwin lauds Vizag 'show-stealer' Bumrah\", 'description': '<img border=\"0\" hspace=\"10\" align=\"left\" style=\"margin-top:3px;margin-right:5px;\" src=\"https://timesofindia.indiatimes.com/photo/107596079.cms\" />Despite England taking a 1-0 lead with a victory over India in the first Test at Hyderabad, Bumrah\\'s precision yorkers and his ability to apply pressure on batters disrupted England\\'s aggressive and result-oriented \\'Bazball\\' approach in the Visakhapatnam Test, which India won by 106 runs to level the series. The third match of the five-Test series begins in Rajkot on February 15. However, Virat Kohli continues to remain unavailable, having withdrawn from the entire series. ', 'link': 'https://timesofindia.indiatimes.com/sports/cricket/england-in-india/boomball-ashwin-lauds-vizag-show-stealer-jasprit-bumrah-likens-ongoing-india-england-series-to-2005-ashes/articleshow/107596079.cms', 'pubDate': '2024-02-11T11:00:58+05:30', 'imgLink': 'https://static.toiimg.com/photo/msid-107596100,imgsize-46912.cms', 'feedType': 'Sports'}\n",
      "{'title': \"'Dhoni had quick hands, but Foakes...': Stewart\", 'description': '<img border=\"0\" hspace=\"10\" align=\"left\" style=\"margin-top:3px;margin-right:5px;\" src=\"https://timesofindia.indiatimes.com/photo/107599351.cms\" />Former England wicketkeeper Alec Stewart lauds Ben Foakes\\' exceptional wicketkeeping skills and hand speed. Foakes impresses on the India tour, claiming six catches and two stumpings. He is praised for his work ethic, attention to detail, and mental strength. Stewart believes Foakes is the best in the world.', 'link': 'https://timesofindia.indiatimes.com/sports/cricket/england-in-india/dhoni-had-quick-hands-but-foakes-has-quickest-hands-in-the-game-alec-stewart/articleshow/107599351.cms', 'pubDate': '2024-02-11T14:30:32+05:30', 'imgLink': 'https://static.toiimg.com/photo/msid-107599316,imgsize-37400.cms', 'feedType': 'Sports'}\n",
      "{'title': \"'Kitaabon par dhool jamne se...': Umesh Yadav on India snub\", 'description': '<img border=\"0\" hspace=\"10\" align=\"left\" style=\"margin-top:3px;margin-right:5px;\" src=\"https://timesofindia.indiatimes.com/photo/107596945.cms\" />Umesh Yadav has taken 170 wickets in 57 Tests for India at an average of 30.95, with the best bowling figures of 6/88. The 36-year-old was a potent weapon for India in the Virat Kohli-Ravi Shastri era, having taken 101 wickets in just 32 home Tests at an average of 25.88, with the best figures of 6/88.', 'link': 'https://timesofindia.indiatimes.com/sports/cricket/england-in-india/umesh-yadav-expresses-disappointment-after-being-left-out-of-the-squad-for-the-final-three-tests-against-england/articleshow/107596945.cms', 'pubDate': '2024-02-11T11:57:58+05:30', 'imgLink': 'https://static.toiimg.com/photo/msid-107596919,imgsize-65012.cms', 'feedType': 'Sports'}\n",
      "{'title': 'Live Score: Australia vs West Indies, 2nd T20I', 'description': '<img border=\"0\" hspace=\"10\" align=\"left\" style=\"margin-top:3px;margin-right:5px;\" src=\"https://timesofindia.indiatimes.com/photo/107598271.cms\" />', 'link': 'https://timesofindia.indiatimes.com/sports/cricket/australia-vs-west-indies-live-score-updates-2nd-t20i-adelaide/liveblog/107598271.cms', 'pubDate': '2024-02-11T13:19:03+05:30', 'imgLink': 'https://static.toiimg.com/photo/msid-107598271,imgsize-106614.cms', 'feedType': 'Sports'}\n",
      "{'title': 'Live Score: Sri Lanka vs Afghanistan, 2nd ODI', 'description': '<img border=\"0\" hspace=\"10\" align=\"left\" style=\"margin-top:3px;margin-right:5px;\" src=\"https://timesofindia.indiatimes.com/photo/107599352.cms\" />', 'link': 'https://timesofindia.indiatimes.com/sports/cricket/sri-lanka-vs-afghanistan-sl-vs-afg-live-score-2nd-odi-from-pallekele/liveblog/107599352.cms', 'pubDate': '2024-02-11T14:29:53+05:30', 'imgLink': 'https://static.toiimg.com/photo/msid-107599352,imgsize-56418.cms', 'feedType': 'Sports'}\n",
      "{'title': 'Akash Deep: From twin tragedies to realising his dream', 'description': '<img border=\"0\" hspace=\"10\" align=\"left\" style=\"margin-top:3px;margin-right:5px;\" src=\"https://timesofindia.indiatimes.com/photo/107593954.cms\" />Akash Deep\\'s impressive performances earned him a spot in the Royal Challengers Bangalore squad for the 2021 IPL. He also replaced the injured Shivam Mavi in India\\'s squad for the 2022 Asian Games. Akash\\'s ability to bowl consistently at a good pace makes him a valuable asset. In 2010, Akash came to Durgapur in Bengal and started staying with his uncle. At a local academy, he got in as a batter. But as he was gaining height, local coaches asked him to try his hand in fast bowling.', 'link': 'https://timesofindia.indiatimes.com/sports/cricket/england-in-india/akash-deep-from-twin-tragedies-to-realizing-his-dream/articleshow/107593954.cms', 'pubDate': '2024-02-11T08:44:53+05:30', 'imgLink': 'https://static.toiimg.com/photo/msid-107594086,imgsize-99300.cms', 'feedType': 'Sports'}\n",
      "{'title': 'Shamar Joseph gets his maiden IPL contract, to play for this team', 'description': '<img border=\"0\" hspace=\"10\" align=\"left\" style=\"margin-top:3px;margin-right:5px;\" src=\"https://timesofindia.indiatimes.com/photo/107584207.cms\" />Shamar Joseph delivered a remarkable performance in the second Test in Brisbane, even after suffering a toe injury from a Mitchell Starc yorker. He claimed seven wickets for 68 runs, including a memorable six-wicket haul within a ten-over spell that dramatically shifted the momentum of the game. This upcoming IPL season marks Joseph\\'s debut in the tournament.', 'link': 'https://timesofindia.indiatimes.com/sports/cricket/ipl/top-stories/shamar-joseph-gets-his-maiden-ipl-contract-to-play-for-this-team-in-the-2024-edition/articleshow/107584207.cms', 'pubDate': '2024-02-10T17:31:36+05:30', 'imgLink': 'https://static.toiimg.com/photo/msid-107584288,imgsize-48132.cms', 'feedType': 'Sports'}\n",
      "{'title': \"'I am begging everyone...': AB de Villiers tenders apology to Kohli's family\", 'description': '<img border=\"0\" hspace=\"10\" align=\"left\" style=\"margin-top:3px;margin-right:5px;\" src=\"https://timesofindia.indiatimes.com/photo/107587260.cms\" />After retracting his earlier statement regarding Virat Kohli and Anushka Sharma expecting their second child, which was initially cited as the reason for the star India batter\\'s absence from the first two Tests against England, South African legend AB de Villiers issued a renewed apology to Kohli\\'s family. \"Just not nice. I shared information that was not confirmed at all so. I am begging everyone out there to respect him and his family and his private time. Hopefully, we will see Virat back, happy and scoring runs. Like he always does.\"', 'link': 'https://timesofindia.indiatimes.com/sports/cricket/england-in-india/i-am-begging-everyone-ab-de-villiers-tenders-apology-to-virat-kohlis-family/articleshow/107587260.cms', 'pubDate': '2024-02-10T20:36:39+05:30', 'imgLink': 'https://static.toiimg.com/photo/msid-107587317,imgsize-47040.cms', 'feedType': 'Sports'}\n",
      "{'title': 'Sunrisers Eastern Cape retain SA20 title with big win in final', 'description': '<img border=\"0\" hspace=\"10\" align=\"left\" style=\"margin-top:3px;margin-right:5px;\" src=\"https://timesofindia.indiatimes.com/photo/107593749.cms\" />Sunrisers Eastern Cape completed back-to-back title success in the SA20 with a thumping 89-run victory over Durban Super Giants in this year\\'s final played at Newlands in Cape Town on Saturday.', 'link': 'https://timesofindia.indiatimes.com/sports/cricket/news/sunrisers-eastern-cape-hammer-durban-super-giants-to-retain-sa20-title/articleshow/107593749.cms', 'pubDate': '2024-02-11T08:31:27+05:30', 'imgLink': 'https://static.toiimg.com/photo/msid-107593834,imgsize-145346.cms', 'feedType': 'Sports'}\n",
      "{'title': \"'He is a problem...': Vaughan singled out this batter as threat for England\", 'description': '<img border=\"0\" hspace=\"10\" align=\"left\" style=\"margin-top:3px;margin-right:5px;\" src=\"https://timesofindia.indiatimes.com/photo/107580435.cms\" />Former England captain Michael Vaughan praised Indian opener Yashasvi Jaiswal, calling him a \"problem\" for the Three Lions. Vaughan praised Jaiswal\\'s stellar performance in the second Test against England, including a marathon double century. Vaughan praised Jaiswal\\'s rapid rise in the cricketing arena, reflecting on his encounter with him in Mumbai last year.', 'link': 'https://timesofindia.indiatimes.com/sports/cricket/england-in-india/former-england-captain-hails-yashasvi-jaiswal-as-a-big-threat-for-visitors/articleshow/107580435.cms', 'pubDate': '2024-02-10T15:09:22+05:30', 'imgLink': 'https://static.toiimg.com/photo/msid-107580559,imgsize-33308.cms', 'feedType': 'Sports'}\n",
      "{'title': \"Rohit Sharma's special message for wife Ritika goes viral\", 'description': '<img border=\"0\" hspace=\"10\" align=\"left\" style=\"margin-top:3px;margin-right:5px;\" src=\"https://timesofindia.indiatimes.com/photo/107582144.cms\" />On Saturday, the Board of Control for Cricket in India (BCCI) revealed the squad, captained by Rohit Sharma, for the remaining three Tests against England in the five-match series. Despite this, star batsman Virat Kohli will remain sidelined for the rest of the series due to personal reasons. Following a narrow loss by 28 runs in the opening Test in Hyderabad, Rohit and his team bounced back to claim victory in the second Test in Vizag by a margin of 106 runs.', 'link': 'https://timesofindia.indiatimes.com/sports/cricket/news/always-rohit-sharmas-special-message-for-wife-ritika-sajdeh-goes-viral/articleshow/107582144.cms', 'pubDate': '2024-02-10T16:16:44+05:30', 'imgLink': 'https://static.toiimg.com/photo/msid-107582176,imgsize-42318.cms', 'feedType': 'Sports'}\n",
      "{'title': \"IND vs ENG: Akash Deep 'ready to realise' his dream\", 'description': '<img border=\"0\" hspace=\"10\" align=\"left\" style=\"margin-top:3px;margin-right:5px;\" src=\"https://timesofindia.indiatimes.com/photo/107587518.cms\" />Akash Deep had just finished his spell and was manning the boundary when he heard everyone in the Bengal dressing room clapping in unison and congratulating him. He had just received his maiden call-up to the Indian Test squad for the remaining three matches against England, a reward for his hard work in red ball cricket for Bengal and India A over the past season.', 'link': 'https://timesofindia.indiatimes.com/sports/cricket/england-in-india/india-vs-england-once-survived-twin-tragedies-within-six-months-akash-deep-ready-to-realise-his-dream/articleshow/107587518.cms', 'pubDate': '2024-02-10T20:57:10+05:30', 'imgLink': 'https://static.toiimg.com/photo/msid-107587572,imgsize-42624.cms', 'feedType': 'Sports'}\n",
      "{'title': \"'Have to be more imaginative': Ex-India batter on Ashwin's performance\", 'description': '<img border=\"0\" hspace=\"10\" align=\"left\" style=\"margin-top:3px;margin-right:5px;\" src=\"https://timesofindia.indiatimes.com/photo/107582670.cms\" />Former India opener Aakash Chopra lashed out at off-spinner Ravichandran Ashwin for not being creative enough on the batting-friendly pitches as he has produced disappointing performances in the first two Tests against England. Ashwin has picked nine wickets in two Tests at an average of 36.33. He has not managed to get a four-wicket or a five-wicket haul in the series so far. He has been outperformed as a spinner by England\\'s Tom Hartley, who has 14 wickets at an average of 24.57, including a seven-wicket haul in the first Test.', 'link': 'https://timesofindia.indiatimes.com/sports/cricket/england-in-india/have-to-be-more-imaginative-former-india-batter-on-ashwins-disappointing-performance/articleshow/107582670.cms', 'pubDate': '2024-02-10T16:37:28+05:30', 'imgLink': 'https://static.toiimg.com/photo/msid-107582766,imgsize-46028.cms', 'feedType': 'Sports'}\n",
      "{'title': \"PCB to revisit players' social media policy\", 'description': '<img border=\"0\" hspace=\"10\" align=\"left\" style=\"margin-top:3px;margin-right:5px;\" src=\"https://timesofindia.indiatimes.com/photo/107584575.cms\" />The Pakistan Cricket Board is not happy with former skipper Babar Azam and the current national T20 skipper Shaheen Shah Afridi participating on a space with fans conducted on social media platform \\'X\\'.', 'link': 'https://timesofindia.indiatimes.com/sports/cricket/news/pcb-to-revisit-players-social-media-policy-after-babar-shaheen-appear-on-x-spaces/articleshow/107584575.cms', 'pubDate': '2024-02-10T17:55:10+05:30', 'imgLink': 'https://static.toiimg.com/photo/msid-107584765,imgsize-62116.cms', 'feedType': 'Sports'}\n",
      "{'title': \"Ranji Trophy: Saurashtra in control after Sheldon Jackson's ton\", 'description': '<img border=\"0\" hspace=\"10\" align=\"left\" style=\"margin-top:3px;margin-right:5px;\" src=\"https://timesofindia.indiatimes.com/photo/107585849.cms\" />In the Ranji Trophy Group A clash against Rajasthan, Saurashtra\\'s middle-order batsman Sheldon Jackson, taking inspiration from his senior teammate Cheteshwar Pujara, notched up a century on the second day, guiding the defending champions to a total exceeding 300 on Saturday.', 'link': 'https://timesofindia.indiatimes.com/sports/cricket/news/ranji-trophy-saurashtra-in-control-after-sheldon-jacksons-ton-bowlers-exploits-against-rajasthan/articleshow/107585849.cms', 'pubDate': '2024-02-10T18:59:03+05:30', 'imgLink': 'https://static.toiimg.com/photo/msid-107585848,imgsize-34528.cms', 'feedType': 'Sports'}\n",
      "{'title': \"Ranji Trophy: Dhawan's unbeaten 95 gives HP first innings lead\", 'description': '<img border=\"0\" hspace=\"10\" align=\"left\" style=\"margin-top:3px;margin-right:5px;\" src=\"https://timesofindia.indiatimes.com/photo/107586018.cms\" />On the second day of their sixth-round Group D Ranji Trophy match against Delhi, Himachal Pradesh reached a total of 311 for eight at stumps, propelled by veteran all-rounder Rishi Dhawan\\'s unbeaten 95 and a patient 85 by opener Ravi Thakur. Having scored 264 on the opening day, Delhi now faces a 47-run deficit with two wickets still in hand. The hosts aim to extend their lead, putting pressure on a fragile Delhi batting line-up that has surpassed 275 only once this season.', 'link': 'https://timesofindia.indiatimes.com/sports/cricket/news/ranji-trophy-rishi-dhawans-unbeaten-95-gives-himachal-pradesh-first-innings-lead-vs-delhi/articleshow/107586018.cms', 'pubDate': '2024-02-10T19:33:01+05:30', 'imgLink': 'https://static.toiimg.com/photo/msid-107586404,imgsize-55268.cms', 'feedType': 'Sports'}\n",
      "{'title': 'Shikhar Dhawan to Team India ahead of U-19 World Cup final', 'description': '<img border=\"0\" hspace=\"10\" align=\"left\" style=\"margin-top:3px;margin-right:5px;\" src=\"https://timesofindia.indiatimes.com/photo/107584653.cms\" />In 2004, Shikhar Dhawan showcased his skills representing India in the Under-19 World Cup tournament. Despite boasting a roster of talented players including Ambati Rayudu, Suresh Raina, Dinesh Karthik, RP Singh, Robin Uthappa, and Dhawan himself, India fell short of making it to the final of the prestigious tournament. The Boys in Blue suffered a defeat to arch-rivals Pakistan in the semifinals. Nearly two decades later, the memories of that time still linger vividly in Dhawan\\'s mind.', 'link': 'https://timesofindia.indiatimes.com/sports/cricket/icc-u-19-world-cup/a-trip-down-shikhar-dhawan-to-team-india-ahead-of-u-19-world-cup-final-vs-australia/articleshow/107584653.cms', 'pubDate': '2024-02-10T17:51:02+05:30', 'imgLink': 'https://static.toiimg.com/photo/msid-107584700,imgsize-68410.cms', 'feedType': 'Sports'}\n",
      "{'title': \"Australia and CSK: Avanish speaks about Dhoni and 'Yellow Love\", 'description': '<img border=\"0\" hspace=\"10\" align=\"left\" style=\"margin-top:3px;margin-right:5px;\" src=\"https://timesofindia.indiatimes.com/photo/107583402.cms\" />While he wears the India blue, the color yellow appears to be the trend for the season for Aravelly Avanish, the wicketkeeper of the India U-19 team.', 'link': 'https://timesofindia.indiatimes.com/sports/cricket/icc-u-19-world-cup/australia-and-csk-aravelly-avanish-speaks-about-dhoni-and-yellow-love/articleshow/107583402.cms', 'pubDate': '2024-02-10T17:08:16+05:30', 'imgLink': 'https://static.toiimg.com/photo/msid-107583611,imgsize-18464.cms', 'feedType': 'Sports'}\n",
      "{'title': 'Virat Kohli to miss remaining Tests against England; Rahul, Jadeja back', 'description': '<img border=\"0\" hspace=\"10\" align=\"left\" style=\"margin-top:3px;margin-right:5px;\" src=\"https://timesofindia.indiatimes.com/photo/107574551.cms\" />Former Indian captain Virat Kohli was not included in the national selectors\\' squad for the remaining three Test matches against England due to personal reasons. The selectors have not made major changes for the next three matches in Rajkot, Ranchi, and Dharamsala. KL Rahul and Ravindra Jadeja returned to the squad after missing the second Test in Vizag due to injuries.', 'link': 'https://timesofindia.indiatimes.com/sports/cricket/england-in-india/virat-kohli-to-miss-remaining-tests-against-england-as-selectors-name-squads-kl-rahul-ravindra-jadeja-back/articleshow/107574551.cms', 'pubDate': '2024-02-10T10:43:54+05:30', 'imgLink': 'https://static.toiimg.com/photo/msid-107574537,imgsize-20552.cms', 'feedType': 'Sports'}\n"
     ]
    }
   ],
   "source": [
    "if __name__ == \"__main__\":\n",
    "    #rss_feed_url = \"https://timesofindia.indiatimes.com/rssfeedstopstories.cms\"\n",
    "    #rss_feed_url = \"https://timesofindia.indiatimes.com/rssfeeds/4719148.cms\"\n",
    "    rss_feed_url = \"https://timesofindia.indiatimes.com/rssfeeds/54829575.cms\"\n",
    "    create_database()\n",
    "    # xml_data = fetch_rss_feed(rss_feed_url)\n",
    "    # rss_entries = parse_and_insert(xml_data)\n",
    "    # interact_database_table(rss_entries)\n",
    "    rss_type = \"Sports\"\n",
    "    rss_data_in_table(rss_feed_url, rss_type=rss_type)\n",
    "        \n",
    "        \n",
    "        \n",
    "    #print(rss_entries)"
   ]
  },
  {
   "cell_type": "code",
   "execution_count": null,
   "metadata": {},
   "outputs": [],
   "source": []
  }
 ],
 "metadata": {
  "kaggle": {
   "accelerator": "none",
   "dataSources": [],
   "dockerImageVersionId": 30646,
   "isGpuEnabled": false,
   "isInternetEnabled": true,
   "language": "python",
   "sourceType": "notebook"
  },
  "kernelspec": {
   "display_name": "Python 3 (ipykernel)",
   "language": "python",
   "name": "python3"
  },
  "language_info": {
   "codemirror_mode": {
    "name": "ipython",
    "version": 3
   },
   "file_extension": ".py",
   "mimetype": "text/x-python",
   "name": "python",
   "nbconvert_exporter": "python",
   "pygments_lexer": "ipython3",
   "version": "3.10.9"
  }
 },
 "nbformat": 4,
 "nbformat_minor": 4
}
